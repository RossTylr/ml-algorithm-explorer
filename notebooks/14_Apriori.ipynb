{
 "cells": [
  {
   "cell_type": "markdown",
   "id": "4631982b",
   "metadata": {},
   "source": [
    "# 14. Apriori Algorithm  \n",
    "**Author**: Your Name  \n",
    "**Date**: June 9, 2025  \n",
    "\n",
    "## Introduction\n",
    "\n",
    "The Apriori algorithm is a classic unsupervised learning technique for **Association Rule Mining**. It is widely used for **Market Basket Analysis** to discover relationships between items in transactional datasets.\n",
    "\n",
    "- **Type**: Unsupervised Learning  \n",
    "- **Task**: Association Rule Mining  \n",
    "- **Goal**: Find rules that satisfy minimum support and confidence thresholds\n",
    "\n",
    "## Core Idea\n",
    "\n",
    "Apriori finds **frequent itemsets** (items that often appear together) and derives **association rules** from them. It uses the **Apriori Principle**:  \n",
    "> \"If an itemset is frequent, all of its subsets must also be frequent.\"\n",
    "\n",
    "## Key Metrics\n",
    "\n",
    "- **Support**: Proportion of transactions containing the itemset  \n",
    "- **Confidence**: Probability of Y given X in the rule X → Y  \n",
    "- **Lift**: How much more likely Y is when X is present  \n",
    "\n",
    "## Steps of Apriori\n",
    "\n",
    "1. **Frequent Itemset Generation**  \n",
    "   - Generate all itemsets that meet `min_support`\n",
    "2. **Association Rule Generation**  \n",
    "   - For each frequent itemset, generate rules that meet `min_confidence`\n",
    "\n",
    "## Pros  \n",
    "- Interpretable, easy to implement  \n",
    "- Parallelizable  \n",
    "\n",
    "## Cons  \n",
    "- Computationally expensive on large datasets  \n",
    "- Many candidate itemsets and rules may be generated  \n",
    "\n",
    "## Use Cases  \n",
    "- Market basket analysis  \n",
    "- Web usage mining  \n",
    "- Gene association in bioinformatics  \n",
    "- Recommendation systems\n"
   ]
  },
  {
   "cell_type": "code",
   "execution_count": 2,
   "id": "08aea21d-aceb-4b9c-8caa-f3a9093927d0",
   "metadata": {},
   "outputs": [
    {
     "name": "stdout",
     "output_type": "stream",
     "text": [
      "Collecting mlxtend\n",
      "  Downloading mlxtend-0.23.4-py3-none-any.whl.metadata (7.3 kB)\n",
      "Requirement already satisfied: scipy>=1.2.1 in /opt/anaconda3/envs/ml_explorer/lib/python3.10/site-packages (from mlxtend) (1.15.2)\n",
      "Requirement already satisfied: numpy>=1.16.2 in /opt/anaconda3/envs/ml_explorer/lib/python3.10/site-packages (from mlxtend) (1.26.4)\n",
      "Requirement already satisfied: pandas>=0.24.2 in /opt/anaconda3/envs/ml_explorer/lib/python3.10/site-packages (from mlxtend) (2.2.3)\n",
      "Requirement already satisfied: scikit-learn>=1.3.1 in /opt/anaconda3/envs/ml_explorer/lib/python3.10/site-packages (from mlxtend) (1.6.1)\n",
      "Requirement already satisfied: matplotlib>=3.0.0 in /opt/anaconda3/envs/ml_explorer/lib/python3.10/site-packages (from mlxtend) (3.10.3)\n",
      "Requirement already satisfied: joblib>=0.13.2 in /opt/anaconda3/envs/ml_explorer/lib/python3.10/site-packages (from mlxtend) (1.5.1)\n",
      "Requirement already satisfied: contourpy>=1.0.1 in /opt/anaconda3/envs/ml_explorer/lib/python3.10/site-packages (from matplotlib>=3.0.0->mlxtend) (1.3.2)\n",
      "Requirement already satisfied: cycler>=0.10 in /opt/anaconda3/envs/ml_explorer/lib/python3.10/site-packages (from matplotlib>=3.0.0->mlxtend) (0.12.1)\n",
      "Requirement already satisfied: fonttools>=4.22.0 in /opt/anaconda3/envs/ml_explorer/lib/python3.10/site-packages (from matplotlib>=3.0.0->mlxtend) (4.58.1)\n",
      "Requirement already satisfied: kiwisolver>=1.3.1 in /opt/anaconda3/envs/ml_explorer/lib/python3.10/site-packages (from matplotlib>=3.0.0->mlxtend) (1.4.8)\n",
      "Requirement already satisfied: packaging>=20.0 in /opt/anaconda3/envs/ml_explorer/lib/python3.10/site-packages (from matplotlib>=3.0.0->mlxtend) (25.0)\n",
      "Requirement already satisfied: pillow>=8 in /opt/anaconda3/envs/ml_explorer/lib/python3.10/site-packages (from matplotlib>=3.0.0->mlxtend) (11.2.1)\n",
      "Requirement already satisfied: pyparsing>=2.3.1 in /opt/anaconda3/envs/ml_explorer/lib/python3.10/site-packages (from matplotlib>=3.0.0->mlxtend) (3.2.3)\n",
      "Requirement already satisfied: python-dateutil>=2.7 in /opt/anaconda3/envs/ml_explorer/lib/python3.10/site-packages (from matplotlib>=3.0.0->mlxtend) (2.9.0.post0)\n",
      "Requirement already satisfied: pytz>=2020.1 in /opt/anaconda3/envs/ml_explorer/lib/python3.10/site-packages (from pandas>=0.24.2->mlxtend) (2025.2)\n",
      "Requirement already satisfied: tzdata>=2022.7 in /opt/anaconda3/envs/ml_explorer/lib/python3.10/site-packages (from pandas>=0.24.2->mlxtend) (2025.2)\n",
      "Requirement already satisfied: six>=1.5 in /opt/anaconda3/envs/ml_explorer/lib/python3.10/site-packages (from python-dateutil>=2.7->matplotlib>=3.0.0->mlxtend) (1.17.0)\n",
      "Requirement already satisfied: threadpoolctl>=3.1.0 in /opt/anaconda3/envs/ml_explorer/lib/python3.10/site-packages (from scikit-learn>=1.3.1->mlxtend) (3.6.0)\n",
      "Downloading mlxtend-0.23.4-py3-none-any.whl (1.4 MB)\n",
      "\u001b[2K   \u001b[38;2;114;156;31m━━━━━━━━━━━━━━━━━━━━━━━━━━━━━━━━━━━━━━━━\u001b[0m \u001b[32m1.4/1.4 MB\u001b[0m \u001b[31m8.7 MB/s\u001b[0m eta \u001b[36m0:00:00\u001b[0m\n",
      "\u001b[?25hInstalling collected packages: mlxtend\n",
      "Successfully installed mlxtend-0.23.4\n"
     ]
    }
   ],
   "source": [
    "import pandas as pd\n",
    "\n",
    "# Install mlxtend if needed:\n",
    "!pip install mlxtend\n",
    "\n",
    "from mlxtend.frequent_patterns import apriori, association_rules\n",
    "from mlxtend.preprocessing import TransactionEncoder\n",
    "\n",
    "# Optional: Display formatting\n",
    "pd.set_option('display.max_columns', None)\n",
    "pd.set_option('display.width', 200)\n"
   ]
  },
  {
   "cell_type": "code",
   "execution_count": 3,
   "id": "416f629d-9232-4638-95fc-09fb662b32b6",
   "metadata": {},
   "outputs": [],
   "source": [
    "# Sample transactions\n",
    "dataset = [\n",
    "    ['Milk', 'Onion', 'Nutmeg', 'Kidney Beans', 'Eggs', 'Yogurt'],\n",
    "    ['Dill', 'Onion', 'Nutmeg', 'Kidney Beans', 'Eggs', 'Yogurt'],\n",
    "    ['Milk', 'Apple', 'Kidney Beans', 'Eggs'],\n",
    "    ['Milk', 'Unicorn', 'Corn', 'Kidney Beans', 'Yogurt'],\n",
    "    ['Corn', 'Onion', 'Onion', 'Kidney Beans', 'Ice cream', 'Eggs']\n",
    "]\n"
   ]
  },
  {
   "cell_type": "code",
   "execution_count": 4,
   "id": "6664b582-2bcc-4d7b-9dbf-d57d3c159099",
   "metadata": {},
   "outputs": [
    {
     "name": "stdout",
     "output_type": "stream",
     "text": [
      "One-Hot Encoded Transactional Data:\n",
      "   Apple   Corn   Dill   Eggs  Ice cream  Kidney Beans   Milk  Nutmeg  Onion  Unicorn  Yogurt\n",
      "0  False  False  False   True      False          True   True    True   True    False    True\n",
      "1  False  False   True   True      False          True  False    True   True    False    True\n",
      "2   True  False  False   True      False          True   True   False  False    False   False\n",
      "3  False   True  False  False      False          True   True   False  False     True    True\n",
      "4  False   True  False   True       True          True  False   False   True    False   False\n"
     ]
    }
   ],
   "source": [
    "# Transform to one-hot encoded DataFrame\n",
    "te = TransactionEncoder()\n",
    "te_ary = te.fit(dataset).transform(dataset)\n",
    "\n",
    "df = pd.DataFrame(te_ary, columns=te.columns_)\n",
    "\n",
    "print(\"One-Hot Encoded Transactional Data:\")\n",
    "print(df)\n"
   ]
  },
  {
   "cell_type": "code",
   "execution_count": 5,
   "id": "04091f68-b18c-43aa-b2e2-87fefe548b4c",
   "metadata": {},
   "outputs": [
    {
     "name": "stdout",
     "output_type": "stream",
     "text": [
      "\n",
      "Frequent Itemsets (min_support = 0.6):\n",
      "    support                     itemsets\n",
      "0       0.8                       (Eggs)\n",
      "1       1.0               (Kidney Beans)\n",
      "2       0.6                       (Milk)\n",
      "3       0.6                      (Onion)\n",
      "4       0.6                     (Yogurt)\n",
      "5       0.8         (Kidney Beans, Eggs)\n",
      "6       0.6                (Eggs, Onion)\n",
      "7       0.6         (Kidney Beans, Milk)\n",
      "8       0.6        (Kidney Beans, Onion)\n",
      "9       0.6       (Kidney Beans, Yogurt)\n",
      "10      0.6  (Kidney Beans, Eggs, Onion)\n"
     ]
    }
   ],
   "source": [
    "# Use Apriori with min_support = 0.6 (60%)\n",
    "frequent_itemsets = apriori(df, min_support=0.6, use_colnames=True)\n",
    "\n",
    "print(\"\\nFrequent Itemsets (min_support = 0.6):\")\n",
    "print(frequent_itemsets)\n"
   ]
  },
  {
   "cell_type": "markdown",
   "id": "e406e3f0-65a9-45d7-9378-b79914d86bb4",
   "metadata": {},
   "source": [
    "### Interpretation:\n",
    "Itemsets appearing in at least 60% (i.e. 3 of 5) transactions are retained.\n"
   ]
  },
  {
   "cell_type": "code",
   "execution_count": 6,
   "id": "dfed6c45-6aca-4221-b79a-b1a6379b8b5d",
   "metadata": {},
   "outputs": [
    {
     "name": "stdout",
     "output_type": "stream",
     "text": [
      "\n",
      "Generated Association Rules (min_confidence = 0.7):\n",
      "              antecedents            consequents  antecedent support  consequent support  support  confidence  lift  representativity  leverage  conviction  zhangs_metric  jaccard  certainty  \\\n",
      "3                 (Onion)                 (Eggs)                 0.6                 0.8      0.6        1.00  1.25               1.0      0.12         inf            0.5     0.75      1.000   \n",
      "8   (Kidney Beans, Onion)                 (Eggs)                 0.6                 0.8      0.6        1.00  1.25               1.0      0.12         inf            0.5     0.75      1.000   \n",
      "11                (Onion)   (Kidney Beans, Eggs)                 0.6                 0.8      0.6        1.00  1.25               1.0      0.12         inf            0.5     0.75      1.000   \n",
      "2                  (Eggs)                (Onion)                 0.8                 0.6      0.6        0.75  1.25               1.0      0.12         1.6            1.0     0.75      0.375   \n",
      "7    (Kidney Beans, Eggs)                (Onion)                 0.8                 0.6      0.6        0.75  1.25               1.0      0.12         1.6            1.0     0.75      0.375   \n",
      "10                 (Eggs)  (Kidney Beans, Onion)                 0.8                 0.6      0.6        0.75  1.25               1.0      0.12         1.6            1.0     0.75      0.375   \n",
      "0          (Kidney Beans)                 (Eggs)                 1.0                 0.8      0.8        0.80  1.00               1.0      0.00         1.0            0.0     0.80      0.000   \n",
      "1                  (Eggs)         (Kidney Beans)                 0.8                 1.0      0.8        1.00  1.00               1.0      0.00         inf            0.0     0.80      0.000   \n",
      "4                  (Milk)         (Kidney Beans)                 0.6                 1.0      0.6        1.00  1.00               1.0      0.00         inf            0.0     0.60      0.000   \n",
      "5                 (Onion)         (Kidney Beans)                 0.6                 1.0      0.6        1.00  1.00               1.0      0.00         inf            0.0     0.60      0.000   \n",
      "6                (Yogurt)         (Kidney Beans)                 0.6                 1.0      0.6        1.00  1.00               1.0      0.00         inf            0.0     0.60      0.000   \n",
      "9           (Eggs, Onion)         (Kidney Beans)                 0.6                 1.0      0.6        1.00  1.00               1.0      0.00         inf            0.0     0.60      0.000   \n",
      "\n",
      "    kulczynski  \n",
      "3        0.875  \n",
      "8        0.875  \n",
      "11       0.875  \n",
      "2        0.875  \n",
      "7        0.875  \n",
      "10       0.875  \n",
      "0        0.900  \n",
      "1        0.900  \n",
      "4        0.800  \n",
      "5        0.800  \n",
      "6        0.800  \n",
      "9        0.800  \n"
     ]
    },
    {
     "name": "stderr",
     "output_type": "stream",
     "text": [
      "/opt/anaconda3/envs/ml_explorer/lib/python3.10/site-packages/mlxtend/frequent_patterns/association_rules.py:186: RuntimeWarning: invalid value encountered in divide\n",
      "  cert_metric = np.where(certainty_denom == 0, 0, certainty_num / certainty_denom)\n"
     ]
    }
   ],
   "source": [
    "# Generate rules with min_confidence = 0.7\n",
    "rules = association_rules(frequent_itemsets, metric=\"confidence\", min_threshold=0.7)\n",
    "\n",
    "# Sort by lift for stronger relationships\n",
    "rules = rules.sort_values(by='lift', ascending=False)\n",
    "\n",
    "print(\"\\nGenerated Association Rules (min_confidence = 0.7):\")\n",
    "print(rules)\n"
   ]
  },
  {
   "cell_type": "markdown",
   "id": "45785521-2efc-4a55-8710-efe4fe5ff9ea",
   "metadata": {},
   "source": [
    "### Rule Interpretation Example:\n",
    "\n",
    "Rule: {Kidney Beans, Eggs} → {Onion}  \n",
    "- **Support**: 0.6 → Found in 60% of transactions  \n",
    "- **Confidence**: 0.75 → 75% of times {Kidney Beans, Eggs} are bought, Onion is too  \n",
    "- **Lift**: 1.25 → Onion is 1.25x more likely to be bought with Kidney Beans & Eggs than by chance  \n",
    "\n",
    "Because Lift > 1, this is a **positive association**.\n"
   ]
  },
  {
   "cell_type": "markdown",
   "id": "c619b370-61aa-4b73-9f41-75219961e240",
   "metadata": {},
   "source": [
    "## Conclusion & Key Takeaways\n",
    "\n",
    "- The Apriori algorithm discovers frequent itemsets and strong association rules.\n",
    "- It uses the Apriori Principle to prune the search space efficiently.\n",
    "- Rules are evaluated using **support**, **confidence**, and **lift**.\n",
    "- The dataset must be **one-hot encoded** before applying Apriori.\n",
    "- While useful, Apriori can be slow on large datasets; alternatives include **FP-Growth**.\n",
    "\n",
    "## Further Reading\n",
    "\n",
    "- [mlxtend Apriori Documentation](http://rasbt.github.io/mlxtend/)\n",
    "- Agrawal & Srikant (1994), “Fast Algorithms for Mining Association Rules”\n",
    "- [StatQuest: Association Rules](https://www.youtube.com/watch?v=ZSPG7P4T0oE)\n"
   ]
  },
  {
   "cell_type": "code",
   "execution_count": null,
   "id": "311bb0d9-8e64-4fd2-9a69-5d0c35798886",
   "metadata": {},
   "outputs": [],
   "source": []
  },
  {
   "cell_type": "code",
   "execution_count": null,
   "id": "d3576f15-6d23-4161-b7cf-dde1378f960a",
   "metadata": {},
   "outputs": [],
   "source": []
  },
  {
   "cell_type": "code",
   "execution_count": null,
   "id": "79c57e92-ed64-4737-8cb9-4ecc0997c217",
   "metadata": {},
   "outputs": [],
   "source": []
  },
  {
   "cell_type": "code",
   "execution_count": null,
   "id": "4d8ea1c6-b90f-434a-9aab-00a7778ddff5",
   "metadata": {},
   "outputs": [],
   "source": []
  },
  {
   "cell_type": "code",
   "execution_count": null,
   "id": "0015a16b-89c6-4f2b-a8aa-1f16ec08a0d1",
   "metadata": {},
   "outputs": [],
   "source": []
  },
  {
   "cell_type": "code",
   "execution_count": null,
   "id": "02733d58-3603-45e5-a92d-c4462bda7685",
   "metadata": {},
   "outputs": [],
   "source": []
  },
  {
   "cell_type": "code",
   "execution_count": null,
   "id": "cd58988f-69ed-4c90-916b-a3ce55f8065a",
   "metadata": {},
   "outputs": [],
   "source": []
  },
  {
   "cell_type": "code",
   "execution_count": null,
   "id": "b9f8e255-e2be-41ec-a3a2-5e9ab283e6fc",
   "metadata": {},
   "outputs": [],
   "source": []
  },
  {
   "cell_type": "code",
   "execution_count": null,
   "id": "54ababea-a453-4e49-930c-a60215620689",
   "metadata": {},
   "outputs": [],
   "source": []
  },
  {
   "cell_type": "code",
   "execution_count": null,
   "id": "86706271-017e-4df9-aed9-12a6a1ae573e",
   "metadata": {},
   "outputs": [],
   "source": []
  },
  {
   "cell_type": "code",
   "execution_count": null,
   "id": "20ec143b-2211-4bc3-8e4f-45727bd3b19a",
   "metadata": {},
   "outputs": [],
   "source": []
  },
  {
   "cell_type": "code",
   "execution_count": null,
   "id": "42662a1a-26d6-42f9-b9ac-9d5d9523cbed",
   "metadata": {},
   "outputs": [],
   "source": []
  },
  {
   "cell_type": "code",
   "execution_count": null,
   "id": "9f055ba9-a7d0-4070-ae27-f1a82777f80b",
   "metadata": {},
   "outputs": [],
   "source": []
  },
  {
   "cell_type": "code",
   "execution_count": null,
   "id": "ef369ced-6351-4861-91c5-a7cba9da610d",
   "metadata": {},
   "outputs": [],
   "source": []
  },
  {
   "cell_type": "code",
   "execution_count": null,
   "id": "08792989-c73f-42af-a895-4b75357c7cec",
   "metadata": {},
   "outputs": [],
   "source": []
  }
 ],
 "metadata": {
  "kernelspec": {
   "display_name": "Python 3 (ipykernel)",
   "language": "python",
   "name": "python3"
  },
  "language_info": {
   "codemirror_mode": {
    "name": "ipython",
    "version": 3
   },
   "file_extension": ".py",
   "mimetype": "text/x-python",
   "name": "python",
   "nbconvert_exporter": "python",
   "pygments_lexer": "ipython3",
   "version": "3.10.16"
  }
 },
 "nbformat": 4,
 "nbformat_minor": 5
}
